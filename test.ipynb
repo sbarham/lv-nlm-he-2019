{
 "cells": [
  {
   "cell_type": "code",
   "execution_count": 1,
   "metadata": {},
   "outputs": [],
   "source": [
    "!command git config --global user.name \"Samuel Barham\""
   ]
  },
  {
   "cell_type": "code",
   "execution_count": 2,
   "metadata": {},
   "outputs": [],
   "source": [
    "!command git config --global user.email \"sbarham@terpmail.umd.edu\""
   ]
  },
  {
   "cell_type": "code",
   "execution_count": 3,
   "metadata": {},
   "outputs": [
    {
     "name": "stdout",
     "output_type": "stream",
     "text": [
      "Already up-to-date.\n"
     ]
    }
   ],
   "source": [
    "!command git pull"
   ]
  },
  {
   "cell_type": "code",
   "execution_count": 8,
   "metadata": {},
   "outputs": [],
   "source": [
    "!command python clean_data.py"
   ]
  },
  {
   "cell_type": "code",
   "execution_count": 10,
   "metadata": {
    "collapsed": true
   },
   "outputs": [
    {
     "name": "stdout",
     "output_type": "stream",
     "text": [
      "[nltk_data] Downloading package brown to /root/nltk_data...\n",
      "[nltk_data]   Package brown is already up-to-date!\n"
     ]
    }
   ],
   "source": [
    "!command python prepare_data.py"
   ]
  },
  {
   "cell_type": "code",
   "execution_count": 11,
   "metadata": {},
   "outputs": [
    {
     "name": "stdout",
     "output_type": "stream",
     "text": [
      "Save directory:\tmodels/brown\n",
      "Save path:\tmodels/brown/brown_aggressive0_constlen_ns1_kls1.00_warm10_0_0_783435.pt\n",
      "----------------------------------------------\n",
      "Using args:\n",
      "Namespace(aggressive=0, batch_size=32, cuda=True, dataset='brown', dec_dropout_in=0.5, dec_dropout_out=0.5, dec_nh=1024, dec_type='lstm', enc_nh=1024, enc_type='lstm', epochs=100, eval=False, iw_nsamples=500, jobid=0, kl_start=1.0, label=False, load_path='', momentum=0, ni=512, nsamples=1, num_sentences=10, nz=32, sample_every=1, save_dir='models/brown', save_path='models/brown/brown_aggressive0_constlen_ns1_kls1.00_warm10_0_0_783435.pt', seed=783435, taskid=0, test_data='datasets/brown_data/brown.test.txt', test_nepoch=5, train_data='datasets/brown_data/brown.train.txt', val_data='datasets/brown_data/brown.valid.txt', warm_up=10)\n",
      "----------------------------------------------\n",
      "Using cuda\n",
      "Train data: 45901 samples\n",
      "finish reading datasets, vocab size is 19974\n",
      "dropped sentences: 0\n",
      "/usr/local/lib/python3.6/site-packages/torch/nn/functional.py:52: UserWarning: size_average and reduce args will be deprecated, please use reduction='none' instead.\n",
      "  warnings.warn(warning.format(ret))\n",
      "----------------------------------------------\n",
      "Model:\n",
      "VAE(\n",
      "  (encoder): LSTMEncoder(\n",
      "    (embed): Embedding(19974, 512)\n",
      "    (lstm): LSTM(512, 1024, batch_first=True)\n",
      "    (linear): Linear(in_features=1024, out_features=64, bias=False)\n",
      "  )\n",
      "  (decoder): LSTMDecoder(\n",
      "    (embed): Embedding(19974, 512, padding_idx=19973)\n",
      "    (dropout_in): Dropout(p=0.5)\n",
      "    (dropout_out): Dropout(p=0.5)\n",
      "    (trans_linear): Linear(in_features=32, out_features=1024, bias=False)\n",
      "    (lstm): LSTM(544, 1024, batch_first=True)\n",
      "    (pred_linear): Linear(in_features=1024, out_features=19974, bias=False)\n",
      "    (loss): CrossEntropyLoss()\n",
      "  )\n",
      ")\n",
      "----------------------------------------------\n",
      "Beginning training ...\n",
      "Epoch 0:\n",
      "epoch: 0, iter: 0, avg_loss: 148.5360, kl: 0.0000, mi: 0.0006, recon: 148.5360, au 0, time elapsed 9.30s\n",
      "epoch: 0, iter: 143, avg_loss: 163.4202, kl: 0.0020, mi: 0.0928, recon: 163.4182, au 0, time elapsed 35.04s\n",
      "epoch: 0, iter: 286, avg_loss: 133.5093, kl: 0.0048, mi: -0.0372, recon: 133.5046, au 0, time elapsed 60.09s\n",
      "epoch: 0, iter: 429, avg_loss: 128.1598, kl: 0.0093, mi: 0.0068, recon: 128.1505, au 0, time elapsed 85.23s\n",
      "epoch: 0, iter: 572, avg_loss: 130.7424, kl: 0.0104, mi: -0.0687, recon: 130.7320, au 0, time elapsed 111.19s\n",
      "epoch: 0, iter: 715, avg_loss: 121.6816, kl: 0.0136, mi: 0.0997, recon: 121.6680, au 0, time elapsed 136.63s\n",
      "epoch: 0, iter: 858, avg_loss: 135.7837, kl: 0.0185, mi: 0.0073, recon: 135.7651, au 0, time elapsed 163.36s\n",
      "epoch: 0, iter: 1001, avg_loss: 124.5381, kl: 0.0201, mi: -0.0134, recon: 124.5179, au 0, time elapsed 189.35s\n",
      "epoch: 0, iter: 1144, avg_loss: 132.2766, kl: 0.0261, mi: -0.0016, recon: 132.2505, au 0, time elapsed 216.26s\n",
      "epoch: 0, iter: 1287, avg_loss: 118.9733, kl: 0.0209, mi: 0.0585, recon: 118.9524, au 0, time elapsed 242.11s\n",
      "epoch: 0, iter: 1430, avg_loss: 114.7282, kl: 0.0222, mi: 0.0474, recon: 114.7060, au 0, time elapsed 267.63s\n",
      "kl weight 1.0000\n",
      "VAL --- avg_loss: 119.4491, kl: 0.0398, mi: -0.0470, recon: 119.4093, nll: 119.4491, ppl: 215.8283\n",
      "0 active units\n",
      "update best loss\n",
      "TEST --- avg_loss: 118.8169, kl: 0.0399, mi: 0.0626, recon: 118.7770, nll: 118.8169, ppl: 215.5761\n",
      "Generating samples for epoch #1 ...\n",
      "Traceback (most recent call last):\n",
      "  File \"text.py\", line 504, in <module>\n",
      "    main(args)\n",
      "  File \"text.py\", line 481, in main\n",
      "    test_generation(vae, vocab, args, epoch)\n",
      "  File \"/floyd/home/utils/sample.py\", line 42, in test_generation\n",
      "    samples += sample_sentences(vae, vocab, args)\n",
      "  File \"/floyd/home/utils/sample.py\", line 95, in sample_sentences\n",
      "    line = ' '.join(line)\n",
      "UnboundLocalError: local variable 'line' referenced before assignment\n"
     ]
    }
   ],
   "source": [
    "!command python text.py --dataset brown"
   ]
  },
  {
   "cell_type": "code",
   "execution_count": null,
   "metadata": {},
   "outputs": [],
   "source": []
  },
  {
   "cell_type": "code",
   "execution_count": null,
   "metadata": {},
   "outputs": [],
   "source": []
  }
 ],
 "metadata": {
  "kernelspec": {
   "display_name": "Python 3",
   "language": "python",
   "name": "python3"
  },
  "language_info": {
   "codemirror_mode": {
    "name": "ipython",
    "version": 3
   },
   "file_extension": ".py",
   "mimetype": "text/x-python",
   "name": "python",
   "nbconvert_exporter": "python",
   "pygments_lexer": "ipython3",
   "version": "3.6.5"
  }
 },
 "nbformat": 4,
 "nbformat_minor": 2
}
